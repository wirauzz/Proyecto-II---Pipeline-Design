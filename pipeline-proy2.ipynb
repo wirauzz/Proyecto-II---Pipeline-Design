{
  "cells": [
    {
      "cell_type": "code",
      "source": [
        "pip install azure-ai-ml"
      ],
      "outputs": [
        {
          "output_type": "stream",
          "name": "stdout",
          "text": "Requirement already satisfied: azure-ai-ml in /anaconda/envs/azureml_py310_sdkv2/lib/python3.10/site-packages (1.8.0)\nRequirement already satisfied: pyyaml<7.0.0,>=5.1.0 in /anaconda/envs/azureml_py310_sdkv2/lib/python3.10/site-packages (from azure-ai-ml) (6.0)\nRequirement already satisfied: msrest>=0.6.18 in /anaconda/envs/azureml_py310_sdkv2/lib/python3.10/site-packages (from azure-ai-ml) (0.7.1)\nRequirement already satisfied: azure-core<2.0.0,>=1.23.0 in /anaconda/envs/azureml_py310_sdkv2/lib/python3.10/site-packages (from azure-ai-ml) (1.27.1)\nRequirement already satisfied: azure-mgmt-core<2.0.0,>=1.3.0 in /anaconda/envs/azureml_py310_sdkv2/lib/python3.10/site-packages (from azure-ai-ml) (1.4.0)\nRequirement already satisfied: marshmallow<4.0.0,>=3.5 in /anaconda/envs/azureml_py310_sdkv2/lib/python3.10/site-packages (from azure-ai-ml) (3.19.0)\nRequirement already satisfied: jsonschema<5.0.0,>=4.0.0 in /anaconda/envs/azureml_py310_sdkv2/lib/python3.10/site-packages (from azure-ai-ml) (4.17.3)\nRequirement already satisfied: tqdm<5.0.0 in /anaconda/envs/azureml_py310_sdkv2/lib/python3.10/site-packages (from azure-ai-ml) (4.65.0)\nRequirement already satisfied: strictyaml<2.0.0 in /anaconda/envs/azureml_py310_sdkv2/lib/python3.10/site-packages (from azure-ai-ml) (1.7.3)\nRequirement already satisfied: colorama<0.5.0 in /anaconda/envs/azureml_py310_sdkv2/lib/python3.10/site-packages (from azure-ai-ml) (0.4.6)\nRequirement already satisfied: pyjwt<3.0.0 in /anaconda/envs/azureml_py310_sdkv2/lib/python3.10/site-packages (from azure-ai-ml) (2.7.0)\nRequirement already satisfied: azure-storage-blob<13.0.0,>=12.10.0 in /anaconda/envs/azureml_py310_sdkv2/lib/python3.10/site-packages (from azure-ai-ml) (12.16.0)\nRequirement already satisfied: azure-storage-file-share<13.0.0 in /anaconda/envs/azureml_py310_sdkv2/lib/python3.10/site-packages (from azure-ai-ml) (12.12.0)\nRequirement already satisfied: azure-storage-file-datalake<13.0.0 in /anaconda/envs/azureml_py310_sdkv2/lib/python3.10/site-packages (from azure-ai-ml) (12.11.0)\nRequirement already satisfied: pydash<6.0.0 in /anaconda/envs/azureml_py310_sdkv2/lib/python3.10/site-packages (from azure-ai-ml) (5.1.2)\nRequirement already satisfied: isodate in /anaconda/envs/azureml_py310_sdkv2/lib/python3.10/site-packages (from azure-ai-ml) (0.6.1)\nRequirement already satisfied: azure-common<2.0.0,>=1.1 in /anaconda/envs/azureml_py310_sdkv2/lib/python3.10/site-packages (from azure-ai-ml) (1.1.28)\nRequirement already satisfied: typing-extensions<5.0.0 in /anaconda/envs/azureml_py310_sdkv2/lib/python3.10/site-packages (from azure-ai-ml) (4.6.3)\nRequirement already satisfied: opencensus-ext-azure<2.0.0 in /anaconda/envs/azureml_py310_sdkv2/lib/python3.10/site-packages (from azure-ai-ml) (1.1.9)\nRequirement already satisfied: requests>=2.18.4 in /anaconda/envs/azureml_py310_sdkv2/lib/python3.10/site-packages (from azure-core<2.0.0,>=1.23.0->azure-ai-ml) (2.31.0)\nRequirement already satisfied: six>=1.11.0 in /anaconda/envs/azureml_py310_sdkv2/lib/python3.10/site-packages (from azure-core<2.0.0,>=1.23.0->azure-ai-ml) (1.16.0)\nRequirement already satisfied: cryptography>=2.1.4 in /anaconda/envs/azureml_py310_sdkv2/lib/python3.10/site-packages (from azure-storage-blob<13.0.0,>=12.10.0->azure-ai-ml) (41.0.1)\nRequirement already satisfied: attrs>=17.4.0 in /anaconda/envs/azureml_py310_sdkv2/lib/python3.10/site-packages (from jsonschema<5.0.0,>=4.0.0->azure-ai-ml) (23.1.0)\nRequirement already satisfied: pyrsistent!=0.17.0,!=0.17.1,!=0.17.2,>=0.14.0 in /anaconda/envs/azureml_py310_sdkv2/lib/python3.10/site-packages (from jsonschema<5.0.0,>=4.0.0->azure-ai-ml) (0.19.3)\nRequirement already satisfied: packaging>=17.0 in /anaconda/envs/azureml_py310_sdkv2/lib/python3.10/site-packages (from marshmallow<4.0.0,>=3.5->azure-ai-ml) (23.0)\nRequirement already satisfied: certifi>=2017.4.17 in /anaconda/envs/azureml_py310_sdkv2/lib/python3.10/site-packages (from msrest>=0.6.18->azure-ai-ml) (2023.5.7)\nRequirement already satisfied: requests-oauthlib>=0.5.0 in /anaconda/envs/azureml_py310_sdkv2/lib/python3.10/site-packages (from msrest>=0.6.18->azure-ai-ml) (1.3.1)\nRequirement already satisfied: azure-identity<2.0.0,>=1.5.0 in /anaconda/envs/azureml_py310_sdkv2/lib/python3.10/site-packages (from opencensus-ext-azure<2.0.0->azure-ai-ml) (1.13.0)\nRequirement already satisfied: opencensus<1.0.0,>=0.11.2 in /anaconda/envs/azureml_py310_sdkv2/lib/python3.10/site-packages (from opencensus-ext-azure<2.0.0->azure-ai-ml) (0.11.2)\nRequirement already satisfied: psutil>=5.6.3 in /anaconda/envs/azureml_py310_sdkv2/lib/python3.10/site-packages (from opencensus-ext-azure<2.0.0->azure-ai-ml) (5.9.0)\nRequirement already satisfied: python-dateutil>=2.6.0 in /anaconda/envs/azureml_py310_sdkv2/lib/python3.10/site-packages (from strictyaml<2.0.0->azure-ai-ml) (2.8.2)\nRequirement already satisfied: msal<2.0.0,>=1.20.0 in /anaconda/envs/azureml_py310_sdkv2/lib/python3.10/site-packages (from azure-identity<2.0.0,>=1.5.0->opencensus-ext-azure<2.0.0->azure-ai-ml) (1.22.0)\nRequirement already satisfied: msal-extensions<2.0.0,>=0.3.0 in /anaconda/envs/azureml_py310_sdkv2/lib/python3.10/site-packages (from azure-identity<2.0.0,>=1.5.0->opencensus-ext-azure<2.0.0->azure-ai-ml) (1.0.0)\nRequirement already satisfied: cffi>=1.12 in /anaconda/envs/azureml_py310_sdkv2/lib/python3.10/site-packages (from cryptography>=2.1.4->azure-storage-blob<13.0.0,>=12.10.0->azure-ai-ml) (1.15.1)\nRequirement already satisfied: opencensus-context>=0.1.3 in /anaconda/envs/azureml_py310_sdkv2/lib/python3.10/site-packages (from opencensus<1.0.0,>=0.11.2->opencensus-ext-azure<2.0.0->azure-ai-ml) (0.1.3)\nRequirement already satisfied: google-api-core<3.0.0,>=1.0.0 in /anaconda/envs/azureml_py310_sdkv2/lib/python3.10/site-packages (from opencensus<1.0.0,>=0.11.2->opencensus-ext-azure<2.0.0->azure-ai-ml) (2.11.1)\nRequirement already satisfied: charset-normalizer<4,>=2 in /anaconda/envs/azureml_py310_sdkv2/lib/python3.10/site-packages (from requests>=2.18.4->azure-core<2.0.0,>=1.23.0->azure-ai-ml) (3.1.0)\nRequirement already satisfied: idna<4,>=2.5 in /anaconda/envs/azureml_py310_sdkv2/lib/python3.10/site-packages (from requests>=2.18.4->azure-core<2.0.0,>=1.23.0->azure-ai-ml) (3.4)\nRequirement already satisfied: urllib3<3,>=1.21.1 in /anaconda/envs/azureml_py310_sdkv2/lib/python3.10/site-packages (from requests>=2.18.4->azure-core<2.0.0,>=1.23.0->azure-ai-ml) (1.26.16)\nRequirement already satisfied: oauthlib>=3.0.0 in /anaconda/envs/azureml_py310_sdkv2/lib/python3.10/site-packages (from requests-oauthlib>=0.5.0->msrest>=0.6.18->azure-ai-ml) (3.2.2)\nRequirement already satisfied: pycparser in /anaconda/envs/azureml_py310_sdkv2/lib/python3.10/site-packages (from cffi>=1.12->cryptography>=2.1.4->azure-storage-blob<13.0.0,>=12.10.0->azure-ai-ml) (2.21)\nRequirement already satisfied: googleapis-common-protos<2.0.dev0,>=1.56.2 in /anaconda/envs/azureml_py310_sdkv2/lib/python3.10/site-packages (from google-api-core<3.0.0,>=1.0.0->opencensus<1.0.0,>=0.11.2->opencensus-ext-azure<2.0.0->azure-ai-ml) (1.59.1)\nRequirement already satisfied: protobuf!=3.20.0,!=3.20.1,!=4.21.0,!=4.21.1,!=4.21.2,!=4.21.3,!=4.21.4,!=4.21.5,<5.0.0.dev0,>=3.19.5 in /anaconda/envs/azureml_py310_sdkv2/lib/python3.10/site-packages (from google-api-core<3.0.0,>=1.0.0->opencensus<1.0.0,>=0.11.2->opencensus-ext-azure<2.0.0->azure-ai-ml) (3.20.3)\nRequirement already satisfied: google-auth<3.0.dev0,>=2.14.1 in /anaconda/envs/azureml_py310_sdkv2/lib/python3.10/site-packages (from google-api-core<3.0.0,>=1.0.0->opencensus<1.0.0,>=0.11.2->opencensus-ext-azure<2.0.0->azure-ai-ml) (2.20.0)\nRequirement already satisfied: portalocker<3,>=1.0 in /anaconda/envs/azureml_py310_sdkv2/lib/python3.10/site-packages (from msal-extensions<2.0.0,>=0.3.0->azure-identity<2.0.0,>=1.5.0->opencensus-ext-azure<2.0.0->azure-ai-ml) (2.7.0)\nRequirement already satisfied: cachetools<6.0,>=2.0.0 in /anaconda/envs/azureml_py310_sdkv2/lib/python3.10/site-packages (from google-auth<3.0.dev0,>=2.14.1->google-api-core<3.0.0,>=1.0.0->opencensus<1.0.0,>=0.11.2->opencensus-ext-azure<2.0.0->azure-ai-ml) (5.3.1)\nRequirement already satisfied: pyasn1-modules>=0.2.1 in /anaconda/envs/azureml_py310_sdkv2/lib/python3.10/site-packages (from google-auth<3.0.dev0,>=2.14.1->google-api-core<3.0.0,>=1.0.0->opencensus<1.0.0,>=0.11.2->opencensus-ext-azure<2.0.0->azure-ai-ml) (0.3.0)\nRequirement already satisfied: rsa<5,>=3.1.4 in /anaconda/envs/azureml_py310_sdkv2/lib/python3.10/site-packages (from google-auth<3.0.dev0,>=2.14.1->google-api-core<3.0.0,>=1.0.0->opencensus<1.0.0,>=0.11.2->opencensus-ext-azure<2.0.0->azure-ai-ml) (4.9)\nRequirement already satisfied: pyasn1<0.6.0,>=0.4.6 in /anaconda/envs/azureml_py310_sdkv2/lib/python3.10/site-packages (from pyasn1-modules>=0.2.1->google-auth<3.0.dev0,>=2.14.1->google-api-core<3.0.0,>=1.0.0->opencensus<1.0.0,>=0.11.2->opencensus-ext-azure<2.0.0->azure-ai-ml) (0.5.0)\nNote: you may need to restart the kernel to use updated packages.\n"
        }
      ],
      "execution_count": 1,
      "metadata": {
        "gather": {
          "logged": 1699286008010
        }
      }
    },
    {
      "cell_type": "code",
      "source": [
        "from azure.ai.ml import load_component\n",
        "from azure.ai.ml.dsl import pipeline\n",
        "from azure.ai.ml import MLClient, Input\n",
        "from azure.ai.ml.entities import AmlCompute\n",
        "from azure.identity import DefaultAzureCredential"
      ],
      "outputs": [],
      "execution_count": 2,
      "metadata": {
        "jupyter": {
          "source_hidden": false,
          "outputs_hidden": false
        },
        "nteract": {
          "transient": {
            "deleting": false
          }
        },
        "gather": {
          "logged": 1699286018578
        }
      }
    },
    {
      "cell_type": "code",
      "source": [
        "def get_comput_target(ml_client, name=\"cpu-cluster\", family=\"Standard_D4s_v3\"):\n",
        "    cpu_comput_target = name\n",
        "\n",
        "    try:\n",
        "        cpu_cluster = ml_client.compute.get(cpu_comput_target)\n",
        "    except Exception:\n",
        "        cpu_cluster = AmlCompute(\n",
        "            name=cpu_comput_target,\n",
        "            type=\"amlcompute\",\n",
        "            size=family,\n",
        "            min_instances=0,\n",
        "            max_instances=4,\n",
        "            idle_time_before_scale_down=180,\n",
        "            tier=\"Dedicated\"\n",
        "        )\n",
        "        cpu_cluster = ml_client.compute.being_create_or_update(cpu_cluster).result()"
      ],
      "outputs": [],
      "execution_count": 3,
      "metadata": {
        "jupyter": {
          "source_hidden": false,
          "outputs_hidden": false
        },
        "nteract": {
          "transient": {
            "deleting": false
          }
        },
        "gather": {
          "logged": 1699286021189
        }
      }
    },
    {
      "cell_type": "code",
      "source": [
        "credential = DefaultAzureCredential()\n",
        "ml_client = MLClient.from_config(credential=credential)"
      ],
      "outputs": [
        {
          "output_type": "stream",
          "name": "stderr",
          "text": "Found the config file in: /config.json\n"
        }
      ],
      "execution_count": 4,
      "metadata": {
        "jupyter": {
          "source_hidden": false,
          "outputs_hidden": false
        },
        "nteract": {
          "transient": {
            "deleting": false
          }
        },
        "gather": {
          "logged": 1699286029875
        }
      }
    },
    {
      "cell_type": "code",
      "source": [
        "compute_target = get_comput_target(ml_client)"
      ],
      "outputs": [],
      "execution_count": 5,
      "metadata": {
        "jupyter": {
          "source_hidden": false,
          "outputs_hidden": false
        },
        "nteract": {
          "transient": {
            "deleting": false
          }
        },
        "gather": {
          "logged": 1699286033980
        }
      }
    },
    {
      "cell_type": "code",
      "source": [
        "clean_data_component = load_component(source=\"./clean-data/clean.yml\")\n",
        "split_data_component = load_component(source=\"./split_data/split_data.yml\")\n",
        "save_correlation_component = load_component(source=\"./save-correlation-img/save_correlation.yml\")\n",
        "train_tree_component = load_component(source=\"./train_decission_tree/train_decission_tree.yml\")\n",
        "score_component = load_component(source=\"./score-component/score.yml\")\n",
        "eval_component = load_component(source=\"./eval-component/eval.yml\")"
      ],
      "outputs": [],
      "execution_count": 6,
      "metadata": {
        "jupyter": {
          "source_hidden": false,
          "outputs_hidden": false
        },
        "nteract": {
          "transient": {
            "deleting": false
          }
        },
        "gather": {
          "logged": 1699286036004
        }
      }
    },
    {
      "cell_type": "code",
      "source": [
        "@pipeline(\n",
        " default_compute='cpu-cluster',\n",
        " )\n",
        "def water_potability_decision_tree(pipeline_input_data):\n",
        "    cleaning_node = clean_data_component(\n",
        "        standard_data=pipeline_input_data\n",
        "    )\n",
        "\n",
        "    save_ptl_img_node = save_correlation_component(\n",
        "        data_set_cleaned = cleaning_node.outputs.cleaned_data\n",
        "    )\n",
        "\n",
        "    split_node = split_data_component(\n",
        "        data_set_cleaned = cleaning_node.outputs.cleaned_data\n",
        "    )\n",
        "\n",
        "    train_node = train_tree_component(\n",
        "        x_train=split_node.outputs.x_train,\n",
        "        y_train=split_node.outputs.y_train\n",
        "    )\n",
        "\n",
        "    score_node = score_component(\n",
        "        model_input=train_node.outputs.model_output,\n",
        "        x_test=split_node.outputs.x_test\n",
        "    )\n",
        "\n",
        "    eval_node = eval_component(\n",
        "        scoring_result=score_node.outputs.y_pred,\n",
        "        y_test=split_node.outputs.y_test\n",
        "    )\n",
        "\n",
        "    return {\n",
        "        \"pipeline_ptl_img_output\": save_ptl_img_node.outputs.correlation_img,\n",
        "        \"pipeline_model_dtree_output\": train_node.outputs.model_output,\n",
        "        \"pipeline_eval_output\": eval_node.outputs.eval_output\n",
        "    }\n"
      ],
      "outputs": [],
      "execution_count": 7,
      "metadata": {
        "jupyter": {
          "source_hidden": false,
          "outputs_hidden": false
        },
        "nteract": {
          "transient": {
            "deleting": false
          }
        },
        "gather": {
          "logged": 1699286042170
        }
      }
    },
    {
      "cell_type": "code",
      "source": [
        "# create a pipeline\n",
        "water_potability_proy2_ds = Input(\n",
        "    type=\"uri_file\",\n",
        "    path=\"azureml://subscriptions/43811fcd-1f9c-4778-a8ec-956a4768f3b9/resourcegroups/andrew.j.t.p-rg/workspaces/pipelines/datastores/workspaceblobstore/paths/UI/2023-11-04_191851_UTC/water_potability_ds.csv\",\n",
        ")\n",
        "pipeline_job = water_potability_decision_tree(pipeline_input_data=water_potability_proy2_ds)\n"
      ],
      "outputs": [],
      "execution_count": 9,
      "metadata": {
        "jupyter": {
          "source_hidden": false,
          "outputs_hidden": false
        },
        "nteract": {
          "transient": {
            "deleting": false
          }
        },
        "gather": {
          "logged": 1699286155687
        }
      }
    },
    {
      "cell_type": "code",
      "source": [
        "pipeline_job = ml_client.jobs.create_or_update(\n",
        "pipeline_job, experiment_name=\"pipeline_water_potability_proy2\")\n",
        "pipeline_job"
      ],
      "outputs": [
        {
          "output_type": "stream",
          "name": "stderr",
          "text": "Class AutoDeleteSettingSchema: This is an experimental class, and may change at any time. Please see https://aka.ms/azuremlexperimental for more information.\nClass AutoDeleteConditionSchema: This is an experimental class, and may change at any time. Please see https://aka.ms/azuremlexperimental for more information.\nClass BaseAutoDeleteSettingSchema: This is an experimental class, and may change at any time. Please see https://aka.ms/azuremlexperimental for more information.\nClass IntellectualPropertySchema: This is an experimental class, and may change at any time. Please see https://aka.ms/azuremlexperimental for more information.\nClass ProtectionLevelSchema: This is an experimental class, and may change at any time. Please see https://aka.ms/azuremlexperimental for more information.\nClass BaseIntellectualPropertySchema: This is an experimental class, and may change at any time. Please see https://aka.ms/azuremlexperimental for more information.\n\u001b[32mUploading save_correlation_src (0.0 MBs): 100%|██████████| 2694/2694 [00:00<00:00, 19636.78it/s]\n\u001b[39m\n\n"
        },
        {
          "output_type": "execute_result",
          "execution_count": 10,
          "data": {
            "text/plain": "PipelineJob({'inputs': {'pipeline_input_data': <azure.ai.ml.entities._job.pipeline._io.base.PipelineInput object at 0x7f8aa0101750>}, 'outputs': {'pipeline_ptl_img_output': <azure.ai.ml.entities._job.pipeline._io.base.PipelineOutput object at 0x7f8aa01016f0>, 'pipeline_model_dtree_output': <azure.ai.ml.entities._job.pipeline._io.base.PipelineOutput object at 0x7f8aa01017b0>, 'pipeline_eval_output': <azure.ai.ml.entities._job.pipeline._io.base.PipelineOutput object at 0x7f8aa01017e0>}, 'jobs': {}, 'component': PipelineComponent({'intellectual_property': None, 'auto_increment_version': False, 'source': 'REMOTE.WORKSPACE.JOB', 'is_anonymous': True, 'auto_delete_setting': None, 'name': 'azureml_anonymous', 'description': None, 'tags': {}, 'properties': {}, 'print_as_yaml': True, 'id': None, 'Resource__source_path': None, 'base_path': '/mnt/batch/tasks/shared/LS_root/mounts/clusters/proy2-intance/code/Users/andrew.j.t.p/Proy-2', 'creation_context': None, 'serialize': <msrest.serialization.Serializer object at 0x7f8aa01014e0>, 'version': '1', 'latest_version': None, 'schema': None, 'type': 'pipeline', 'display_name': 'water_potability_decision_tree', 'is_deterministic': None, 'inputs': {'pipeline_input_data': {}}, 'outputs': {'pipeline_ptl_img_output': {}, 'pipeline_model_dtree_output': {}, 'pipeline_eval_output': {}}, 'yaml_str': None, 'other_parameter': {}, 'jobs': {'cleaning_node': Command({'parameters': {}, 'init': False, 'name': 'cleaning_node', 'type': 'command', 'status': None, 'log_files': None, 'description': None, 'tags': {}, 'properties': {}, 'print_as_yaml': True, 'id': None, 'Resource__source_path': None, 'base_path': '/mnt/batch/tasks/shared/LS_root/mounts/clusters/proy2-intance/code/Users/andrew.j.t.p/Proy-2', 'creation_context': None, 'serialize': <msrest.serialization.Serializer object at 0x7f8aa0100c40>, 'allowed_keys': {}, 'key_restriction': False, 'logger': <Logger attr_dict (WARNING)>, 'display_name': None, 'experiment_name': None, 'compute': None, 'services': None, 'comment': None, 'job_inputs': {'standard_data': '${{parent.inputs.pipeline_input_data}}'}, 'job_outputs': {}, 'inputs': {'standard_data': <azure.ai.ml.entities._job.pipeline._io.base.NodeInput object at 0x7f8aa0100c70>}, 'outputs': {}, 'component': 'azureml_anonymous:985d79f3-4020-4f3f-b0dd-ef6e96421621', 'referenced_control_flow_node_instance_id': None, 'kwargs': {'services': None}, 'instance_id': '4ce67254-c460-4eef-ad92-5837e85a6d8c', 'source': 'REMOTE.WORKSPACE.COMPONENT', 'validate_required_input_not_provided': True, 'limits': None, 'identity': None, 'distribution': None, 'environment_variables': {}, 'environment': None, 'resources': None, 'queue_settings': None, 'swept': False}), 'save_ptl_img_node': Command({'parameters': {}, 'init': False, 'name': 'save_ptl_img_node', 'type': 'command', 'status': None, 'log_files': None, 'description': None, 'tags': {}, 'properties': {}, 'print_as_yaml': True, 'id': None, 'Resource__source_path': None, 'base_path': '/mnt/batch/tasks/shared/LS_root/mounts/clusters/proy2-intance/code/Users/andrew.j.t.p/Proy-2', 'creation_context': None, 'serialize': <msrest.serialization.Serializer object at 0x7f8aa0100fd0>, 'allowed_keys': {}, 'key_restriction': False, 'logger': <Logger attr_dict (WARNING)>, 'display_name': None, 'experiment_name': None, 'compute': None, 'services': None, 'comment': None, 'job_inputs': {'data_set_cleaned': '${{parent.jobs.cleaning_node.outputs.cleaned_data}}'}, 'job_outputs': {'correlation_img': '${{parent.outputs.pipeline_ptl_img_output}}'}, 'inputs': {'data_set_cleaned': <azure.ai.ml.entities._job.pipeline._io.base.NodeInput object at 0x7f8aa01011b0>}, 'outputs': {'correlation_img': <azure.ai.ml.entities._job.pipeline._io.base.NodeOutput object at 0x7f8aa0100d00>}, 'component': 'azureml_anonymous:a4faf0e8-a677-4ce9-92e2-6e709c917d32', 'referenced_control_flow_node_instance_id': None, 'kwargs': {'services': None}, 'instance_id': '793ff79f-2256-418c-81f6-706f485bb6ea', 'source': 'REMOTE.WORKSPACE.COMPONENT', 'validate_required_input_not_provided': True, 'limits': None, 'identity': None, 'distribution': None, 'environment_variables': {}, 'environment': None, 'resources': None, 'queue_settings': None, 'swept': False}), 'split_node': Command({'parameters': {}, 'init': False, 'name': 'split_node', 'type': 'command', 'status': None, 'log_files': None, 'description': None, 'tags': {}, 'properties': {}, 'print_as_yaml': True, 'id': None, 'Resource__source_path': None, 'base_path': '/mnt/batch/tasks/shared/LS_root/mounts/clusters/proy2-intance/code/Users/andrew.j.t.p/Proy-2', 'creation_context': None, 'serialize': <msrest.serialization.Serializer object at 0x7f8aa0101060>, 'allowed_keys': {}, 'key_restriction': False, 'logger': <Logger attr_dict (WARNING)>, 'display_name': None, 'experiment_name': None, 'compute': None, 'services': None, 'comment': None, 'job_inputs': {'data_set_cleaned': '${{parent.jobs.cleaning_node.outputs.cleaned_data}}'}, 'job_outputs': {}, 'inputs': {'data_set_cleaned': <azure.ai.ml.entities._job.pipeline._io.base.NodeInput object at 0x7f8aa0101540>}, 'outputs': {}, 'component': 'azureml_anonymous:c109fb74-c69e-45fd-827a-3c8f27f8d5ff', 'referenced_control_flow_node_instance_id': None, 'kwargs': {'services': None}, 'instance_id': '7bd0e1bb-2998-49fd-884c-fb2ad3d36ed2', 'source': 'REMOTE.WORKSPACE.COMPONENT', 'validate_required_input_not_provided': True, 'limits': None, 'identity': None, 'distribution': None, 'environment_variables': {}, 'environment': None, 'resources': None, 'queue_settings': None, 'swept': False}), 'train_node': Command({'parameters': {}, 'init': False, 'name': 'train_node', 'type': 'command', 'status': None, 'log_files': None, 'description': None, 'tags': {}, 'properties': {}, 'print_as_yaml': True, 'id': None, 'Resource__source_path': None, 'base_path': '/mnt/batch/tasks/shared/LS_root/mounts/clusters/proy2-intance/code/Users/andrew.j.t.p/Proy-2', 'creation_context': None, 'serialize': <msrest.serialization.Serializer object at 0x7f8aa0101630>, 'allowed_keys': {}, 'key_restriction': False, 'logger': <Logger attr_dict (WARNING)>, 'display_name': None, 'experiment_name': None, 'compute': None, 'services': None, 'comment': None, 'job_inputs': {'x_train': '${{parent.jobs.split_node.outputs.x_train}}', 'y_train': '${{parent.jobs.split_node.outputs.y_train}}'}, 'job_outputs': {'model_output': '${{parent.outputs.pipeline_model_dtree_output}}'}, 'inputs': {'x_train': <azure.ai.ml.entities._job.pipeline._io.base.NodeInput object at 0x7f8aa0101120>, 'y_train': <azure.ai.ml.entities._job.pipeline._io.base.NodeInput object at 0x7f8aa0101180>}, 'outputs': {'model_output': <azure.ai.ml.entities._job.pipeline._io.base.NodeOutput object at 0x7f8aa0101720>}, 'component': 'azureml_anonymous:f8f5fc0a-9cb1-416e-a225-01c438ec73f6', 'referenced_control_flow_node_instance_id': None, 'kwargs': {'services': None}, 'instance_id': '1c379b7e-9c63-43f5-b7c9-e296e9184c8e', 'source': 'REMOTE.WORKSPACE.COMPONENT', 'validate_required_input_not_provided': True, 'limits': None, 'identity': None, 'distribution': None, 'environment_variables': {}, 'environment': None, 'resources': None, 'queue_settings': None, 'swept': False}), 'score_node': Command({'parameters': {}, 'init': False, 'name': 'score_node', 'type': 'command', 'status': None, 'log_files': None, 'description': None, 'tags': {}, 'properties': {}, 'print_as_yaml': True, 'id': None, 'Resource__source_path': None, 'base_path': '/mnt/batch/tasks/shared/LS_root/mounts/clusters/proy2-intance/code/Users/andrew.j.t.p/Proy-2', 'creation_context': None, 'serialize': <msrest.serialization.Serializer object at 0x7f8aa0100eb0>, 'allowed_keys': {}, 'key_restriction': False, 'logger': <Logger attr_dict (WARNING)>, 'display_name': None, 'experiment_name': None, 'compute': None, 'services': None, 'comment': None, 'job_inputs': {'model_input': '${{parent.jobs.train_node.outputs.model_output}}', 'x_test': '${{parent.jobs.split_node.outputs.x_test}}'}, 'job_outputs': {}, 'inputs': {'model_input': <azure.ai.ml.entities._job.pipeline._io.base.NodeInput object at 0x7f8aa0100790>, 'x_test': <azure.ai.ml.entities._job.pipeline._io.base.NodeInput object at 0x7f8aa0101210>}, 'outputs': {}, 'component': 'azureml_anonymous:b735a4b6-d220-4449-86e0-229322a4e783', 'referenced_control_flow_node_instance_id': None, 'kwargs': {'services': None}, 'instance_id': 'f69176a7-80ea-4b78-8bec-189528139db9', 'source': 'REMOTE.WORKSPACE.COMPONENT', 'validate_required_input_not_provided': True, 'limits': None, 'identity': None, 'distribution': None, 'environment_variables': {}, 'environment': None, 'resources': None, 'queue_settings': None, 'swept': False}), 'eval_node': Command({'parameters': {}, 'init': False, 'name': 'eval_node', 'type': 'command', 'status': None, 'log_files': None, 'description': None, 'tags': {}, 'properties': {}, 'print_as_yaml': True, 'id': None, 'Resource__source_path': None, 'base_path': '/mnt/batch/tasks/shared/LS_root/mounts/clusters/proy2-intance/code/Users/andrew.j.t.p/Proy-2', 'creation_context': None, 'serialize': <msrest.serialization.Serializer object at 0x7f8aa0100b20>, 'allowed_keys': {}, 'key_restriction': False, 'logger': <Logger attr_dict (WARNING)>, 'display_name': None, 'experiment_name': None, 'compute': None, 'services': None, 'comment': None, 'job_inputs': {'scoring_result': '${{parent.jobs.score_node.outputs.y_pred}}', 'y_test': '${{parent.jobs.split_node.outputs.y_test}}'}, 'job_outputs': {'eval_output': '${{parent.outputs.pipeline_eval_output}}'}, 'inputs': {'scoring_result': <azure.ai.ml.entities._job.pipeline._io.base.NodeInput object at 0x7f8aa0101030>, 'y_test': <azure.ai.ml.entities._job.pipeline._io.base.NodeInput object at 0x7f8aa0100dc0>}, 'outputs': {'eval_output': <azure.ai.ml.entities._job.pipeline._io.base.NodeOutput object at 0x7f8aa0100fa0>}, 'component': 'azureml_anonymous:f5e4bf0e-0e04-4e8c-8e56-f33c083fedb2', 'referenced_control_flow_node_instance_id': None, 'kwargs': {'services': None}, 'instance_id': 'd92d7772-74ff-4b7d-ba10-765580ebe1b7', 'source': 'REMOTE.WORKSPACE.COMPONENT', 'validate_required_input_not_provided': True, 'limits': None, 'identity': None, 'distribution': None, 'environment_variables': {}, 'environment': None, 'resources': None, 'queue_settings': None, 'swept': False})}, 'job_types': {'command': 6}, 'job_sources': {'REMOTE.WORKSPACE.COMPONENT': 6}, 'source_job_id': None}), 'type': 'pipeline', 'status': 'Preparing', 'log_files': None, 'name': 'boring_corn_ckz9x4b9cz', 'description': None, 'tags': {}, 'properties': {'azureml.DevPlatv2': 'true', 'azureml.DatasetAccessMode': 'Asset', 'azureml.runsource': 'azureml.PipelineRun', 'runSource': 'MFE', 'runType': 'HTTP', 'azureml.parameters': '{}', 'azureml.continue_on_step_failure': 'True', 'azureml.continue_on_failed_optional_input': 'True', 'azureml.enforceRerun': 'False', 'azureml.defaultComputeName': 'cpu-cluster', 'azureml.defaultDataStoreName': 'workspaceblobstore', 'azureml.pipelineComponent': 'pipelinerun'}, 'print_as_yaml': True, 'id': '/subscriptions/43811fcd-1f9c-4778-a8ec-956a4768f3b9/resourceGroups/andrew.j.t.p-rg/providers/Microsoft.MachineLearningServices/workspaces/pipelines/jobs/boring_corn_ckz9x4b9cz', 'Resource__source_path': None, 'base_path': '/mnt/batch/tasks/shared/LS_root/mounts/clusters/proy2-intance/code/Users/andrew.j.t.p/Proy-2', 'creation_context': <azure.ai.ml.entities._system_data.SystemData object at 0x7f8aa0101690>, 'serialize': <msrest.serialization.Serializer object at 0x7f8aa0101810>, 'display_name': 'water_potability_decision_tree', 'experiment_name': 'pipeline_water_potability_proy2', 'compute': None, 'services': {'Tracking': {'endpoint': 'azureml://eastus2.api.azureml.ms/mlflow/v1.0/subscriptions/43811fcd-1f9c-4778-a8ec-956a4768f3b9/resourceGroups/andrew.j.t.p-rg/providers/Microsoft.MachineLearningServices/workspaces/pipelines?', 'type': 'Tracking'}, 'Studio': {'endpoint': 'https://ml.azure.com/runs/boring_corn_ckz9x4b9cz?wsid=/subscriptions/43811fcd-1f9c-4778-a8ec-956a4768f3b9/resourcegroups/andrew.j.t.p-rg/workspaces/pipelines&tid=5262e80e-dd9a-4f25-8a52-bb2d4b629e92', 'type': 'Studio'}}, 'settings': {}, 'identity': None, 'default_code': None, 'default_environment': None})",
            "text/html": "<table style=\"width:100%\"><tr><th>Experiment</th><th>Name</th><th>Type</th><th>Status</th><th>Details Page</th></tr><tr><td>pipeline_water_potability_proy2</td><td>boring_corn_ckz9x4b9cz</td><td>pipeline</td><td>Preparing</td><td><a href=\"https://ml.azure.com/runs/boring_corn_ckz9x4b9cz?wsid=/subscriptions/43811fcd-1f9c-4778-a8ec-956a4768f3b9/resourcegroups/andrew.j.t.p-rg/workspaces/pipelines&amp;tid=5262e80e-dd9a-4f25-8a52-bb2d4b629e92\" target=\"_blank\" rel=\"noopener\">Link to Azure Machine Learning studio</a></td></tr></table>"
          },
          "metadata": {}
        }
      ],
      "execution_count": 10,
      "metadata": {
        "jupyter": {
          "source_hidden": false,
          "outputs_hidden": false
        },
        "nteract": {
          "transient": {
            "deleting": false
          }
        },
        "gather": {
          "logged": 1699286171806
        }
      }
    },
    {
      "cell_type": "code",
      "source": [
        "ml_client.jobs.stream(pipeline_job.name)"
      ],
      "outputs": [
        {
          "output_type": "stream",
          "name": "stdout",
          "text": "RunId: boring_corn_ckz9x4b9cz\nWeb View: https://ml.azure.com/runs/boring_corn_ckz9x4b9cz?wsid=/subscriptions/43811fcd-1f9c-4778-a8ec-956a4768f3b9/resourcegroups/andrew.j.t.p-rg/workspaces/pipelines\n\nStreaming logs/azureml/executionlogs.txt\n========================================\n\n[2023-11-06 15:56:13Z] Completing processing run id c83c5cb2-80a4-4639-94ec-468a35eb4d45.\n[2023-11-06 15:56:15Z] Completing processing run id faa2449f-60f1-4ca9-aef3-43743b5e6682.\n[2023-11-06 15:56:16Z] Completing processing run id cedc5364-87c6-4ef0-aa91-b39127aeb9ad.\n[2023-11-06 15:56:17Z] Completing processing run id 76a80952-32ad-45e1-a655-310ff5338471.\n[2023-11-06 15:56:20Z] Completing processing run id e397ef17-bb4c-47c4-84dd-0f4fb4511430.\n[2023-11-06 15:56:21Z] Submitting 1 runs, first five are: ea7f953e:93a3df47-2316-4559-a1f1-3ff02d61eb16\n[2023-11-06 16:02:26Z] Completing processing run id 93a3df47-2316-4559-a1f1-3ff02d61eb16.\n\nExecution Summary\n=================\nRunId: boring_corn_ckz9x4b9cz\nWeb View: https://ml.azure.com/runs/boring_corn_ckz9x4b9cz?wsid=/subscriptions/43811fcd-1f9c-4778-a8ec-956a4768f3b9/resourcegroups/andrew.j.t.p-rg/workspaces/pipelines\n\n"
        }
      ],
      "execution_count": 11,
      "metadata": {
        "jupyter": {
          "source_hidden": false,
          "outputs_hidden": false
        },
        "nteract": {
          "transient": {
            "deleting": false
          }
        },
        "gather": {
          "logged": 1699286576699
        }
      }
    },
    {
      "cell_type": "code",
      "source": [
        "output = ml_client.jobs.download(name=pipeline_job.name, download_path='./pipeline_output', all=True)"
      ],
      "outputs": [
        {
          "output_type": "stream",
          "name": "stderr",
          "text": "Downloading artifact azureml://subscriptions/43811fcd-1f9c-4778-a8ec-956a4768f3b9/resourcegroups/andrew.j.t.p-rg/workspaces/pipelines/datastores/workspaceblobstore/paths/azureml/89f2494c-3f8e-46d4-be7b-4405e977046c/model_output to pipeline_output/named-outputs/pipeline_model_dtree_output\nDownloading artifact azureml://subscriptions/43811fcd-1f9c-4778-a8ec-956a4768f3b9/resourcegroups/andrew.j.t.p-rg/workspaces/pipelines/datastores/workspaceblobstore/paths/azureml/3b1d410a-dae3-4a5a-978a-0fc863799c34/eval_output to pipeline_output/named-outputs/pipeline_eval_output\nDownloading artifact azureml://subscriptions/43811fcd-1f9c-4778-a8ec-956a4768f3b9/resourcegroups/andrew.j.t.p-rg/workspaces/pipelines/datastores/workspaceblobstore/paths/azureml/93a3df47-2316-4559-a1f1-3ff02d61eb16/correlation_img/ to pipeline_output/named-outputs/pipeline_ptl_img_output\nDownloading artifact azureml://datastores/workspaceartifactstore/paths/ExperimentRun/dcid.boring_corn_ckz9x4b9cz/ to pipeline_output/artifacts\n"
        }
      ],
      "execution_count": 12,
      "metadata": {
        "jupyter": {
          "source_hidden": false,
          "outputs_hidden": false
        },
        "nteract": {
          "transient": {
            "deleting": false
          }
        },
        "gather": {
          "logged": 1699286605441
        }
      }
    }
  ],
  "metadata": {
    "kernelspec": {
      "name": "python310-sdkv2",
      "language": "python",
      "display_name": "Python 3.10 - SDK v2"
    },
    "language_info": {
      "name": "python",
      "version": "3.10.11",
      "mimetype": "text/x-python",
      "codemirror_mode": {
        "name": "ipython",
        "version": 3
      },
      "pygments_lexer": "ipython3",
      "nbconvert_exporter": "python",
      "file_extension": ".py"
    },
    "microsoft": {
      "ms_spell_check": {
        "ms_spell_check_language": "en"
      },
      "host": {
        "AzureML": {
          "notebookHasBeenCompleted": true
        }
      }
    },
    "kernel_info": {
      "name": "python310-sdkv2"
    },
    "nteract": {
      "version": "nteract-front-end@1.0.0"
    }
  },
  "nbformat": 4,
  "nbformat_minor": 2
}